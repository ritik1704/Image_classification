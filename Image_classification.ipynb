{
 "cells": [
  {
   "cell_type": "code",
   "execution_count": 1,
   "metadata": {
    "colab": {
     "base_uri": "https://localhost:8080/",
     "height": 33
    },
    "colab_type": "code",
    "id": "vSSFEf7vgVKv",
    "outputId": "fad999e7-7945-4b55-f795-91ced0f149b0"
   },
   "outputs": [
    {
     "name": "stderr",
     "output_type": "stream",
     "text": [
      "Using TensorFlow backend.\n"
     ]
    }
   ],
   "source": [
    "import tensorflow as tf\n",
    "from keras.preprocessing.image import ImageDataGenerator\n"
   ]
  },
  {
   "cell_type": "code",
   "execution_count": 2,
   "metadata": {
    "colab": {
     "base_uri": "https://localhost:8080/",
     "height": 35
    },
    "colab_type": "code",
    "id": "3j7jamXrkj3_",
    "outputId": "765c9a33-ff88-4acb-9c3f-7ea5fcd8f722"
   },
   "outputs": [
    {
     "data": {
      "text/plain": [
       "'2.2.0'"
      ]
     },
     "execution_count": 2,
     "metadata": {},
     "output_type": "execute_result"
    }
   ],
   "source": [
    "tf.__version__"
   ]
  },
  {
   "cell_type": "code",
   "execution_count": 3,
   "metadata": {
    "colab": {},
    "colab_type": "code",
    "id": "jBhsI1a4knvT"
   },
   "outputs": [
    {
     "name": "stdout",
     "output_type": "stream",
     "text": [
      "Found 8000 images belonging to 2 classes.\n"
     ]
    }
   ],
   "source": [
    "#data preprocessing \n",
    "train_datagen = ImageDataGenerator(\n",
    "        rescale=1./255,\n",
    "        shear_range=0.2,\n",
    "        zoom_range=0.2,\n",
    "        horizontal_flip=True)\n",
    "\n",
    "\n",
    "training_set = train_datagen.flow_from_directory(\n",
    "        'dataset/training_set',\n",
    "        target_size=(64, 64),\n",
    "        batch_size=32,\n",
    "        class_mode='binary')   #catagorical if more than two\n",
    "\n",
    "\n"
   ]
  },
  {
   "cell_type": "code",
   "execution_count": 4,
   "metadata": {
    "colab": {},
    "colab_type": "code",
    "id": "EGH7xmcvo4gi"
   },
   "outputs": [
    {
     "name": "stdout",
     "output_type": "stream",
     "text": [
      "Found 2000 images belonging to 2 classes.\n"
     ]
    }
   ],
   "source": [
    "test_datagen = ImageDataGenerator(rescale=1./255)\n",
    "test_set = test_datagen.flow_from_directory(\n",
    "        'dataset/test_set',\n",
    "        target_size=(64, 64),\n",
    "        batch_size=32,\n",
    "        class_mode='binary')"
   ]
  },
  {
   "cell_type": "code",
   "execution_count": 5,
   "metadata": {
    "colab": {},
    "colab_type": "code",
    "id": "lPKjBqrAuqb6"
   },
   "outputs": [],
   "source": [
    "from keras.models import Sequential\n",
    "from keras.layers import Conv2D\n",
    "from keras.layers import MaxPool2D\n",
    "from keras.layers import Flatten\n",
    "from keras.layers import Dense"
   ]
  },
  {
   "cell_type": "code",
   "execution_count": 6,
   "metadata": {
    "colab": {},
    "colab_type": "code",
    "id": "TVxdf2fZvIyC"
   },
   "outputs": [],
   "source": [
    "cnn= Sequential()"
   ]
  },
  {
   "cell_type": "code",
   "execution_count": 7,
   "metadata": {
    "colab": {},
    "colab_type": "code",
    "id": "sSbWAwysvNHR"
   },
   "outputs": [],
   "source": [
    "cnn.add(Conv2D(filters=32,kernel_size=3,activation='relu',input_shape=[64, 64, 3]))"
   ]
  },
  {
   "cell_type": "code",
   "execution_count": 8,
   "metadata": {
    "colab": {},
    "colab_type": "code",
    "id": "9rykDgQlx0Zx"
   },
   "outputs": [],
   "source": [
    "cnn.add(MaxPool2D(pool_size=2,strides=2))"
   ]
  },
  {
   "cell_type": "code",
   "execution_count": 9,
   "metadata": {
    "colab": {},
    "colab_type": "code",
    "id": "e5ON-1DZzB0m"
   },
   "outputs": [],
   "source": [
    "cnn.add(Conv2D(filters=32,kernel_size=3,activation='relu'))\n",
    "cnn.add(MaxPool2D(pool_size=2,strides=2))"
   ]
  },
  {
   "cell_type": "code",
   "execution_count": 10,
   "metadata": {
    "colab": {},
    "colab_type": "code",
    "id": "ByUfHEWRzUhj"
   },
   "outputs": [],
   "source": [
    "cnn.add(Flatten())"
   ]
  },
  {
   "cell_type": "code",
   "execution_count": 11,
   "metadata": {
    "colab": {},
    "colab_type": "code",
    "id": "lzx7nSNezqSI"
   },
   "outputs": [],
   "source": [
    "cnn.add(Dense(units=128,activation='relu'))"
   ]
  },
  {
   "cell_type": "code",
   "execution_count": 12,
   "metadata": {
    "colab": {},
    "colab_type": "code",
    "id": "iOPNTTp50hGf"
   },
   "outputs": [],
   "source": [
    "cnn.add(Dense(units=1,activation='sigmoid')) #if multiclass use softmax as activation function"
   ]
  },
  {
   "cell_type": "code",
   "execution_count": 13,
   "metadata": {
    "colab": {},
    "colab_type": "code",
    "id": "c367hL_C05oj"
   },
   "outputs": [],
   "source": [
    "cnn.compile(optimizer='adam',loss='binary_crossentropy',metrics=['accuracy'])"
   ]
  },
  {
   "cell_type": "code",
   "execution_count": 14,
   "metadata": {
    "colab": {},
    "colab_type": "code",
    "id": "Vwq6_QRk7ruS"
   },
   "outputs": [
    {
     "name": "stdout",
     "output_type": "stream",
     "text": [
      "Epoch 1/25\n",
      "250/250 [==============================] - 313s 1s/step - loss: 0.6750 - accuracy: 0.5756 - val_loss: 0.6016 - val_accuracy: 0.6650\n",
      "Epoch 2/25\n",
      "250/250 [==============================] - 134s 538ms/step - loss: 0.6356 - accuracy: 0.6455 - val_loss: 0.6925 - val_accuracy: 0.6860\n",
      "Epoch 3/25\n",
      "250/250 [==============================] - 135s 538ms/step - loss: 0.6039 - accuracy: 0.6702 - val_loss: 0.6733 - val_accuracy: 0.7140\n",
      "Epoch 4/25\n",
      "250/250 [==============================] - 140s 559ms/step - loss: 0.5697 - accuracy: 0.7009 - val_loss: 0.7304 - val_accuracy: 0.7205\n",
      "Epoch 5/25\n",
      "250/250 [==============================] - 125s 498ms/step - loss: 0.5347 - accuracy: 0.7344 - val_loss: 0.7942 - val_accuracy: 0.7475\n",
      "Epoch 6/25\n",
      "250/250 [==============================] - 139s 556ms/step - loss: 0.5134 - accuracy: 0.7477 - val_loss: 0.3353 - val_accuracy: 0.7590\n",
      "Epoch 7/25\n",
      "250/250 [==============================] - 139s 556ms/step - loss: 0.4901 - accuracy: 0.7582 - val_loss: 0.2930 - val_accuracy: 0.7755\n",
      "Epoch 8/25\n",
      "250/250 [==============================] - 135s 540ms/step - loss: 0.4693 - accuracy: 0.7719 - val_loss: 0.3504 - val_accuracy: 0.7635\n",
      "Epoch 9/25\n",
      "250/250 [==============================] - 132s 529ms/step - loss: 0.4580 - accuracy: 0.7865 - val_loss: 0.5840 - val_accuracy: 0.7470\n",
      "Epoch 10/25\n",
      "250/250 [==============================] - 150s 600ms/step - loss: 0.4325 - accuracy: 0.7949 - val_loss: 0.6801 - val_accuracy: 0.7725\n",
      "Epoch 11/25\n",
      "250/250 [==============================] - 137s 548ms/step - loss: 0.4167 - accuracy: 0.8087 - val_loss: 0.3352 - val_accuracy: 0.7845\n",
      "Epoch 12/25\n",
      "250/250 [==============================] - 146s 585ms/step - loss: 0.3990 - accuracy: 0.8189 - val_loss: 0.3675 - val_accuracy: 0.7775\n",
      "Epoch 13/25\n",
      "250/250 [==============================] - 68s 273ms/step - loss: 0.3717 - accuracy: 0.8304 - val_loss: 0.5160 - val_accuracy: 0.7600\n",
      "Epoch 14/25\n",
      "250/250 [==============================] - 46s 184ms/step - loss: 0.3522 - accuracy: 0.8425 - val_loss: 0.7232 - val_accuracy: 0.7810\n",
      "Epoch 15/25\n",
      "250/250 [==============================] - 43s 173ms/step - loss: 0.3338 - accuracy: 0.8569 - val_loss: 0.3975 - val_accuracy: 0.7880\n",
      "Epoch 16/25\n",
      "250/250 [==============================] - 41s 163ms/step - loss: 0.3196 - accuracy: 0.8605 - val_loss: 0.2271 - val_accuracy: 0.7685\n",
      "Epoch 17/25\n",
      "250/250 [==============================] - 45s 182ms/step - loss: 0.2956 - accuracy: 0.8717 - val_loss: 0.4252 - val_accuracy: 0.7770\n",
      "Epoch 18/25\n",
      "250/250 [==============================] - 47s 187ms/step - loss: 0.2932 - accuracy: 0.8755 - val_loss: 0.5175 - val_accuracy: 0.7675\n",
      "Epoch 19/25\n",
      "250/250 [==============================] - 50s 199ms/step - loss: 0.2659 - accuracy: 0.8911 - val_loss: 0.4876 - val_accuracy: 0.7885\n",
      "Epoch 20/25\n",
      "250/250 [==============================] - 45s 180ms/step - loss: 0.2414 - accuracy: 0.8985 - val_loss: 1.2307 - val_accuracy: 0.7855\n",
      "Epoch 21/25\n",
      "250/250 [==============================] - 44s 176ms/step - loss: 0.2363 - accuracy: 0.9049 - val_loss: 0.6904 - val_accuracy: 0.7975\n",
      "Epoch 22/25\n",
      "250/250 [==============================] - 44s 176ms/step - loss: 0.2208 - accuracy: 0.9124 - val_loss: 0.3556 - val_accuracy: 0.7660\n",
      "Epoch 23/25\n",
      "250/250 [==============================] - 44s 175ms/step - loss: 0.2188 - accuracy: 0.9120 - val_loss: 0.8599 - val_accuracy: 0.7820\n",
      "Epoch 24/25\n",
      "250/250 [==============================] - 44s 177ms/step - loss: 0.1975 - accuracy: 0.9219 - val_loss: 0.8316 - val_accuracy: 0.7895\n",
      "Epoch 25/25\n",
      "250/250 [==============================] - 44s 178ms/step - loss: 0.1800 - accuracy: 0.9289 - val_loss: 0.6021 - val_accuracy: 0.7850\n"
     ]
    },
    {
     "data": {
      "text/plain": [
       "<keras.callbacks.callbacks.History at 0x25afe484a48>"
      ]
     },
     "execution_count": 14,
     "metadata": {},
     "output_type": "execute_result"
    }
   ],
   "source": [
    "cnn.fit(x=training_set,validation_data=test_set,epochs=25)"
   ]
  },
  {
   "cell_type": "code",
   "execution_count": 20,
   "metadata": {
    "colab": {},
    "colab_type": "code",
    "id": "D47savxg8aVm"
   },
   "outputs": [],
   "source": [
    "import numpy as np\n",
    "from keras.preprocessing import image"
   ]
  },
  {
   "cell_type": "code",
   "execution_count": 21,
   "metadata": {
    "colab": {},
    "colab_type": "code",
    "id": "wPaosHze88dt"
   },
   "outputs": [],
   "source": [
    "test_image = image.load_img('dataset/single_prediction/cat_or_dog_2.jpg',target_size=(64,64))\n",
    "test_image = image.img_to_array(test_image)\n",
    "test_image= np.expand_dims(test_image,axis=0)\n"
   ]
  },
  {
   "cell_type": "code",
   "execution_count": 22,
   "metadata": {
    "colab": {},
    "colab_type": "code",
    "id": "SjYDJU62Cf9a"
   },
   "outputs": [
    {
     "data": {
      "text/plain": [
       "{'cats': 0, 'dogs': 1}"
      ]
     },
     "execution_count": 22,
     "metadata": {},
     "output_type": "execute_result"
    }
   ],
   "source": [
    "result=cnn.predict(test_image)\n",
    "training_set.class_indices\n",
    " "
   ]
  },
  {
   "cell_type": "code",
   "execution_count": 23,
   "metadata": {
    "colab": {},
    "colab_type": "code",
    "id": "liOukFiRAgIT"
   },
   "outputs": [],
   "source": [
    "if result[0][0]== 1:\n",
    "  prediction='dog'\n",
    "else:\n",
    "  prediction='cat'"
   ]
  },
  {
   "cell_type": "code",
   "execution_count": 24,
   "metadata": {
    "colab": {},
    "colab_type": "code",
    "id": "UlWbXThEDqoE"
   },
   "outputs": [
    {
     "name": "stdout",
     "output_type": "stream",
     "text": [
      "dog\n"
     ]
    }
   ],
   "source": [
    "print(prediction)"
   ]
  },
  {
   "cell_type": "code",
   "execution_count": null,
   "metadata": {},
   "outputs": [],
   "source": []
  }
 ],
 "metadata": {
  "colab": {
   "name": "cnn_practice.ipynb",
   "provenance": []
  },
  "kernelspec": {
   "display_name": "Python 3",
   "language": "python",
   "name": "python3"
  },
  "language_info": {
   "codemirror_mode": {
    "name": "ipython",
    "version": 3
   },
   "file_extension": ".py",
   "mimetype": "text/x-python",
   "name": "python",
   "nbconvert_exporter": "python",
   "pygments_lexer": "ipython3",
   "version": "3.7.6"
  }
 },
 "nbformat": 4,
 "nbformat_minor": 1
}
